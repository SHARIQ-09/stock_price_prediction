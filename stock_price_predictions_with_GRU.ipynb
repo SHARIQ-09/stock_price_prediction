{
 "cells": [
  {
   "cell_type": "code",
   "execution_count": 1,
   "metadata": {},
   "outputs": [],
   "source": [
    "import zipfile\n",
    "with zipfile.ZipFile('stock_price_data.zip') as zip_obj:\n",
    "    zip_obj.extractall('stock_price_data')"
   ]
  },
  {
   "cell_type": "code",
   "execution_count": 157,
   "metadata": {},
   "outputs": [],
   "source": [
    "import pandas as pd"
   ]
  },
  {
   "cell_type": "code",
   "execution_count": 158,
   "metadata": {},
   "outputs": [
    {
     "data": {
      "text/html": [
       "<div>\n",
       "<style scoped>\n",
       "    .dataframe tbody tr th:only-of-type {\n",
       "        vertical-align: middle;\n",
       "    }\n",
       "\n",
       "    .dataframe tbody tr th {\n",
       "        vertical-align: top;\n",
       "    }\n",
       "\n",
       "    .dataframe thead th {\n",
       "        text-align: right;\n",
       "    }\n",
       "</style>\n",
       "<table border=\"1\" class=\"dataframe\">\n",
       "  <thead>\n",
       "    <tr style=\"text-align: right;\">\n",
       "      <th></th>\n",
       "      <th>Nasdaq Traded</th>\n",
       "      <th>Symbol</th>\n",
       "      <th>Security Name</th>\n",
       "      <th>Listing Exchange</th>\n",
       "      <th>Market Category</th>\n",
       "      <th>ETF</th>\n",
       "      <th>Round Lot Size</th>\n",
       "      <th>Test Issue</th>\n",
       "      <th>Financial Status</th>\n",
       "      <th>CQS Symbol</th>\n",
       "      <th>NASDAQ Symbol</th>\n",
       "      <th>NextShares</th>\n",
       "    </tr>\n",
       "  </thead>\n",
       "  <tbody>\n",
       "    <tr>\n",
       "      <th>8044</th>\n",
       "      <td>Y</td>\n",
       "      <td>ZUO</td>\n",
       "      <td>Zuora, Inc. Class A Common Stock</td>\n",
       "      <td>N</td>\n",
       "      <td></td>\n",
       "      <td>N</td>\n",
       "      <td>100.0</td>\n",
       "      <td>N</td>\n",
       "      <td>NaN</td>\n",
       "      <td>ZUO</td>\n",
       "      <td>ZUO</td>\n",
       "      <td>N</td>\n",
       "    </tr>\n",
       "    <tr>\n",
       "      <th>8045</th>\n",
       "      <td>Y</td>\n",
       "      <td>ZVO</td>\n",
       "      <td>Zovio Inc. - Common Stock</td>\n",
       "      <td>Q</td>\n",
       "      <td>Q</td>\n",
       "      <td>N</td>\n",
       "      <td>100.0</td>\n",
       "      <td>N</td>\n",
       "      <td>N</td>\n",
       "      <td>NaN</td>\n",
       "      <td>ZVO</td>\n",
       "      <td>N</td>\n",
       "    </tr>\n",
       "    <tr>\n",
       "      <th>8046</th>\n",
       "      <td>Y</td>\n",
       "      <td>ZYME</td>\n",
       "      <td>Zymeworks Inc. Common Shares</td>\n",
       "      <td>N</td>\n",
       "      <td></td>\n",
       "      <td>N</td>\n",
       "      <td>100.0</td>\n",
       "      <td>N</td>\n",
       "      <td>NaN</td>\n",
       "      <td>ZYME</td>\n",
       "      <td>ZYME</td>\n",
       "      <td>N</td>\n",
       "    </tr>\n",
       "    <tr>\n",
       "      <th>8047</th>\n",
       "      <td>Y</td>\n",
       "      <td>ZYNE</td>\n",
       "      <td>Zynerba Pharmaceuticals, Inc. - Common Stock</td>\n",
       "      <td>Q</td>\n",
       "      <td>G</td>\n",
       "      <td>N</td>\n",
       "      <td>100.0</td>\n",
       "      <td>N</td>\n",
       "      <td>N</td>\n",
       "      <td>NaN</td>\n",
       "      <td>ZYNE</td>\n",
       "      <td>N</td>\n",
       "    </tr>\n",
       "    <tr>\n",
       "      <th>8048</th>\n",
       "      <td>Y</td>\n",
       "      <td>ZYXI</td>\n",
       "      <td>Zynex, Inc. - Common Stock</td>\n",
       "      <td>Q</td>\n",
       "      <td>S</td>\n",
       "      <td>N</td>\n",
       "      <td>100.0</td>\n",
       "      <td>N</td>\n",
       "      <td>N</td>\n",
       "      <td>NaN</td>\n",
       "      <td>ZYXI</td>\n",
       "      <td>N</td>\n",
       "    </tr>\n",
       "  </tbody>\n",
       "</table>\n",
       "</div>"
      ],
      "text/plain": [
       "     Nasdaq Traded Symbol                                 Security Name  \\\n",
       "8044             Y    ZUO              Zuora, Inc. Class A Common Stock   \n",
       "8045             Y    ZVO                     Zovio Inc. - Common Stock   \n",
       "8046             Y   ZYME                  Zymeworks Inc. Common Shares   \n",
       "8047             Y   ZYNE  Zynerba Pharmaceuticals, Inc. - Common Stock   \n",
       "8048             Y   ZYXI                    Zynex, Inc. - Common Stock   \n",
       "\n",
       "     Listing Exchange Market Category ETF  Round Lot Size Test Issue  \\\n",
       "8044                N                   N           100.0          N   \n",
       "8045                Q               Q   N           100.0          N   \n",
       "8046                N                   N           100.0          N   \n",
       "8047                Q               G   N           100.0          N   \n",
       "8048                Q               S   N           100.0          N   \n",
       "\n",
       "     Financial Status CQS Symbol NASDAQ Symbol NextShares  \n",
       "8044              NaN        ZUO           ZUO          N  \n",
       "8045                N        NaN           ZVO          N  \n",
       "8046              NaN       ZYME          ZYME          N  \n",
       "8047                N        NaN          ZYNE          N  \n",
       "8048                N        NaN          ZYXI          N  "
      ]
     },
     "execution_count": 158,
     "metadata": {},
     "output_type": "execute_result"
    }
   ],
   "source": [
    "metadata= pd.read_csv('stock_price_data/symbols_valid_meta.csv')\n",
    "metadata.tail()"
   ]
  },
  {
   "cell_type": "code",
   "execution_count": 159,
   "metadata": {},
   "outputs": [],
   "source": [
    "import os"
   ]
  },
  {
   "cell_type": "code",
   "execution_count": 160,
   "metadata": {},
   "outputs": [],
   "source": [
    "# going through list of directories of stocks to get prices of each stock\n",
    "\n",
    "data_path='stock_price_data/stocks'\n",
    "tickers=os.listdir(data_path)\n",
    "data={}\n",
    "\n",
    "for ticker in tickers:\n",
    "    df=pd.read_csv(os.path.join(data_path,ticker))\n",
    "    df['Ticker'] = ticker.split('.')[0]  # Extract symbol from filename\n",
    "    data[ticker] = df"
   ]
  },
  {
   "cell_type": "code",
   "execution_count": 161,
   "metadata": {},
   "outputs": [
    {
     "data": {
      "text/plain": [
       "5884"
      ]
     },
     "execution_count": 161,
     "metadata": {},
     "output_type": "execute_result"
    }
   ],
   "source": [
    "len (data.keys())"
   ]
  },
  {
   "cell_type": "code",
   "execution_count": 163,
   "metadata": {},
   "outputs": [
    {
     "data": {
      "text/plain": [
       "0       ZYXI\n",
       "1       ZYXI\n",
       "2       ZYXI\n",
       "3       ZYXI\n",
       "4       ZYXI\n",
       "        ... \n",
       "4049    ZYXI\n",
       "4050    ZYXI\n",
       "4051    ZYXI\n",
       "4052    ZYXI\n",
       "4053    ZYXI\n",
       "Name: Ticker, Length: 4054, dtype: object"
      ]
     },
     "execution_count": 163,
     "metadata": {},
     "output_type": "execute_result"
    }
   ],
   "source": [
    "df['Ticker']"
   ]
  },
  {
   "cell_type": "code",
   "execution_count": 164,
   "metadata": {},
   "outputs": [
    {
     "name": "stdout",
     "output_type": "stream",
     "text": [
      "BAM.csv 2\n",
      "BBX.csv 22\n",
      "BPOPN.csv 2\n",
      "BSM.csv 2\n",
      "CAH.csv 2\n",
      "CAT.csv 2\n",
      "FARM.csv 3\n",
      "FCBC.csv 2\n",
      "FELE.csv 3\n",
      "FTFT.csv 2\n",
      "FTR.csv 3\n",
      "HMG.csv 5\n",
      "HOG.csv 2\n",
      "IRET.csv 2\n",
      "KLR.csv 3\n",
      "MARPS.csv 18\n",
      "MMX.csv 3\n",
      "MS.csv 2\n",
      "MSEX.csv 2\n",
      "MTA.csv 21\n",
      "NIU.csv 2\n",
      "NLOK.csv 27\n",
      "NOC.csv 3\n",
      "NTR.csv 35\n",
      "OR.csv 4\n",
      "PCB.csv 8\n",
      "PIPR.csv 11\n",
      "RCP.csv 4\n",
      "RHE.csv 3\n",
      "RHI.csv 7\n",
      "RMG.csv 4\n",
      "RMI.csv 9\n",
      "RNP.csv 9\n",
      "RNST.csv 3\n",
      "SBCF.csv 4\n",
      "SWP.csv 2\n",
      "TAK.csv 2\n",
      "TFII.csv 12\n",
      "TM.csv 5\n",
      "VALU.csv 12\n",
      "VXX.csv 4\n",
      "WOR.csv 2\n",
      "WTRG.csv 138\n",
      "ZIONO.csv 24\n"
     ]
    }
   ],
   "source": [
    "for ticker, df in data.items():\n",
    "     if df.isnull().any(axis=1).sum() > 1:\n",
    "          print (ticker , df.isnull().any(axis=1).sum())\n",
    "    #df.fillna(method='ffill', inplace=True)\n",
    "    #df.fillna(method='bfill', inplace=True)"
   ]
  },
  {
   "cell_type": "code",
   "execution_count": 145,
   "metadata": {},
   "outputs": [],
   "source": [
    "# note if you want to process any of the above script , please use this method to first fill the missing values\n",
    "# for df , ticker in df.items():\n",
    "    #df.fillna(method='ffill', inplace=True)\n",
    "    #df.fillna(method='bfill', inplace=True)\n"
   ]
  },
  {
   "cell_type": "code",
   "execution_count": 165,
   "metadata": {},
   "outputs": [
    {
     "data": {
      "text/plain": [
       "Index(['Date', 'Open', 'High', 'Low', 'Close', 'Adj Close', 'Volume',\n",
       "       'Ticker'],\n",
       "      dtype='object')"
      ]
     },
     "execution_count": 165,
     "metadata": {},
     "output_type": "execute_result"
    }
   ],
   "source": [
    "df.columns"
   ]
  },
  {
   "cell_type": "code",
   "execution_count": null,
   "metadata": {},
   "outputs": [],
   "source": []
  },
  {
   "cell_type": "code",
   "execution_count": 148,
   "metadata": {},
   "outputs": [
    {
     "name": "stdout",
     "output_type": "stream",
     "text": [
      "<class 'pandas.core.frame.DataFrame'>\n",
      "RangeIndex: 4054 entries, 0 to 4053\n",
      "Data columns (total 8 columns):\n",
      " #   Column     Non-Null Count  Dtype  \n",
      "---  ------     --------------  -----  \n",
      " 0   Date       4054 non-null   object \n",
      " 1   Open       4054 non-null   float64\n",
      " 2   High       4054 non-null   float64\n",
      " 3   Low        4054 non-null   float64\n",
      " 4   Close      4054 non-null   float64\n",
      " 5   Adj Close  4054 non-null   float64\n",
      " 6   Volume     4054 non-null   float64\n",
      " 7   Ticker     4054 non-null   object \n",
      "dtypes: float64(6), object(2)\n",
      "memory usage: 253.5+ KB\n"
     ]
    }
   ],
   "source": [
    "df.info()"
   ]
  },
  {
   "cell_type": "code",
   "execution_count": 149,
   "metadata": {},
   "outputs": [],
   "source": [
    "# since the ticker value is same across all rows , and does not provide any useful information , we \n",
    "#should drop that before moving forward\n"
   ]
  },
  {
   "cell_type": "code",
   "execution_count": 236,
   "metadata": {},
   "outputs": [],
   "source": [
    "from sklearn.preprocessing import MinMaxScaler\n",
    "\n",
    "ms = MinMaxScaler()\n",
    "#for ticker , df  in data.items():\n",
    " #   df[['Open', 'High', 'Low', 'Close', 'Adj Close', 'Volume']]=ms.fit_transform(df[['Open', 'High', 'Low', 'Close', 'Adj Close', 'Volume']])"
   ]
  },
  {
   "cell_type": "code",
   "execution_count": 150,
   "metadata": {},
   "outputs": [],
   "source": [
    "# for each ticker we want to create a sequence of last 30 days \n",
    "\n",
    "import numpy as np\n",
    "\n",
    "def create_sequences(data, sequence_length=30):\n",
    "    X,y=[],[]\n",
    "    for i in range(len(data)- sequence_length):\n",
    "        X.append(data[i:i+sequence_length,:])\n",
    "        y.append(data[i+sequence_length,3]) # 3 = close price \n",
    "\n",
    "    return np.array(X,dtype=np.float32),np.array(y,dtype=np.float32)"
   ]
  },
  {
   "cell_type": "code",
   "execution_count": 228,
   "metadata": {},
   "outputs": [],
   "source": [
    "ticker_data = data['GOOGL.csv']"
   ]
  },
  {
   "cell_type": "code",
   "execution_count": 229,
   "metadata": {},
   "outputs": [
    {
     "name": "stdout",
     "output_type": "stream",
     "text": [
      "<class 'pandas.core.frame.DataFrame'>\n",
      "RangeIndex: 3932 entries, 0 to 3931\n",
      "Data columns (total 8 columns):\n",
      " #   Column     Non-Null Count  Dtype  \n",
      "---  ------     --------------  -----  \n",
      " 0   Date       3932 non-null   object \n",
      " 1   Open       3932 non-null   float64\n",
      " 2   High       3932 non-null   float64\n",
      " 3   Low        3932 non-null   float64\n",
      " 4   Close      3932 non-null   float64\n",
      " 5   Adj Close  3932 non-null   float64\n",
      " 6   Volume     3932 non-null   int64  \n",
      " 7   Ticker     3932 non-null   object \n",
      "dtypes: float64(5), int64(1), object(2)\n",
      "memory usage: 245.9+ KB\n"
     ]
    }
   ],
   "source": [
    "ticker_data.info()"
   ]
  },
  {
   "cell_type": "code",
   "execution_count": 230,
   "metadata": {},
   "outputs": [],
   "source": [
    "ticker_data = ticker_data.drop(columns=['Ticker','Date'])"
   ]
  },
  {
   "cell_type": "code",
   "execution_count": 231,
   "metadata": {},
   "outputs": [
    {
     "name": "stdout",
     "output_type": "stream",
     "text": [
      "<class 'pandas.core.frame.DataFrame'>\n",
      "RangeIndex: 3932 entries, 0 to 3931\n",
      "Data columns (total 6 columns):\n",
      " #   Column     Non-Null Count  Dtype  \n",
      "---  ------     --------------  -----  \n",
      " 0   Open       3932 non-null   float64\n",
      " 1   High       3932 non-null   float64\n",
      " 2   Low        3932 non-null   float64\n",
      " 3   Close      3932 non-null   float64\n",
      " 4   Adj Close  3932 non-null   float64\n",
      " 5   Volume     3932 non-null   int64  \n",
      "dtypes: float64(5), int64(1)\n",
      "memory usage: 184.4 KB\n"
     ]
    }
   ],
   "source": [
    "# sanity check\n",
    "ticker_data.info()"
   ]
  },
  {
   "cell_type": "code",
   "execution_count": 232,
   "metadata": {},
   "outputs": [
    {
     "data": {
      "text/html": [
       "<div>\n",
       "<style scoped>\n",
       "    .dataframe tbody tr th:only-of-type {\n",
       "        vertical-align: middle;\n",
       "    }\n",
       "\n",
       "    .dataframe tbody tr th {\n",
       "        vertical-align: top;\n",
       "    }\n",
       "\n",
       "    .dataframe thead th {\n",
       "        text-align: right;\n",
       "    }\n",
       "</style>\n",
       "<table border=\"1\" class=\"dataframe\">\n",
       "  <thead>\n",
       "    <tr style=\"text-align: right;\">\n",
       "      <th></th>\n",
       "      <th>Open</th>\n",
       "      <th>High</th>\n",
       "      <th>Low</th>\n",
       "      <th>Close</th>\n",
       "      <th>Adj Close</th>\n",
       "      <th>Volume</th>\n",
       "    </tr>\n",
       "  </thead>\n",
       "  <tbody>\n",
       "    <tr>\n",
       "      <th>count</th>\n",
       "      <td>3932.000000</td>\n",
       "      <td>3932.000000</td>\n",
       "      <td>3932.000000</td>\n",
       "      <td>3932.000000</td>\n",
       "      <td>3932.000000</td>\n",
       "      <td>3.932000e+03</td>\n",
       "    </tr>\n",
       "    <tr>\n",
       "      <th>mean</th>\n",
       "      <td>509.120446</td>\n",
       "      <td>513.765443</td>\n",
       "      <td>504.117829</td>\n",
       "      <td>509.072183</td>\n",
       "      <td>509.072183</td>\n",
       "      <td>7.047423e+06</td>\n",
       "    </tr>\n",
       "    <tr>\n",
       "      <th>std</th>\n",
       "      <td>356.977348</td>\n",
       "      <td>359.970162</td>\n",
       "      <td>353.926473</td>\n",
       "      <td>357.153459</td>\n",
       "      <td>357.153459</td>\n",
       "      <td>7.959722e+06</td>\n",
       "    </tr>\n",
       "    <tr>\n",
       "      <th>min</th>\n",
       "      <td>49.644646</td>\n",
       "      <td>50.920921</td>\n",
       "      <td>48.028027</td>\n",
       "      <td>50.055054</td>\n",
       "      <td>50.055054</td>\n",
       "      <td>5.206000e+05</td>\n",
       "    </tr>\n",
       "    <tr>\n",
       "      <th>25%</th>\n",
       "      <td>239.717220</td>\n",
       "      <td>241.657913</td>\n",
       "      <td>236.712967</td>\n",
       "      <td>238.697449</td>\n",
       "      <td>238.697449</td>\n",
       "      <td>1.902550e+06</td>\n",
       "    </tr>\n",
       "    <tr>\n",
       "      <th>50%</th>\n",
       "      <td>327.630127</td>\n",
       "      <td>331.894394</td>\n",
       "      <td>324.441940</td>\n",
       "      <td>327.722733</td>\n",
       "      <td>327.722733</td>\n",
       "      <td>4.337100e+06</td>\n",
       "    </tr>\n",
       "    <tr>\n",
       "      <th>75%</th>\n",
       "      <td>757.720001</td>\n",
       "      <td>763.542526</td>\n",
       "      <td>752.017502</td>\n",
       "      <td>758.502487</td>\n",
       "      <td>758.502487</td>\n",
       "      <td>8.914150e+06</td>\n",
       "    </tr>\n",
       "    <tr>\n",
       "      <th>max</th>\n",
       "      <td>1527.199951</td>\n",
       "      <td>1530.739990</td>\n",
       "      <td>1520.979980</td>\n",
       "      <td>1524.869995</td>\n",
       "      <td>1524.869995</td>\n",
       "      <td>8.215110e+07</td>\n",
       "    </tr>\n",
       "  </tbody>\n",
       "</table>\n",
       "</div>"
      ],
      "text/plain": [
       "              Open         High          Low        Close    Adj Close  \\\n",
       "count  3932.000000  3932.000000  3932.000000  3932.000000  3932.000000   \n",
       "mean    509.120446   513.765443   504.117829   509.072183   509.072183   \n",
       "std     356.977348   359.970162   353.926473   357.153459   357.153459   \n",
       "min      49.644646    50.920921    48.028027    50.055054    50.055054   \n",
       "25%     239.717220   241.657913   236.712967   238.697449   238.697449   \n",
       "50%     327.630127   331.894394   324.441940   327.722733   327.722733   \n",
       "75%     757.720001   763.542526   752.017502   758.502487   758.502487   \n",
       "max    1527.199951  1530.739990  1520.979980  1524.869995  1524.869995   \n",
       "\n",
       "             Volume  \n",
       "count  3.932000e+03  \n",
       "mean   7.047423e+06  \n",
       "std    7.959722e+06  \n",
       "min    5.206000e+05  \n",
       "25%    1.902550e+06  \n",
       "50%    4.337100e+06  \n",
       "75%    8.914150e+06  \n",
       "max    8.215110e+07  "
      ]
     },
     "execution_count": 232,
     "metadata": {},
     "output_type": "execute_result"
    }
   ],
   "source": [
    "ticker_data.describe()"
   ]
  },
  {
   "cell_type": "code",
   "execution_count": 237,
   "metadata": {},
   "outputs": [],
   "source": [
    "ticker_data[['Open', 'High', 'Low', 'Close', 'Adj Close', 'Volume']]=ms.fit_transform(ticker_data[['Open', 'High', 'Low', 'Close', 'Adj Close', 'Volume']])"
   ]
  },
  {
   "cell_type": "code",
   "execution_count": 238,
   "metadata": {},
   "outputs": [
    {
     "data": {
      "text/html": [
       "<div>\n",
       "<style scoped>\n",
       "    .dataframe tbody tr th:only-of-type {\n",
       "        vertical-align: middle;\n",
       "    }\n",
       "\n",
       "    .dataframe tbody tr th {\n",
       "        vertical-align: top;\n",
       "    }\n",
       "\n",
       "    .dataframe thead th {\n",
       "        text-align: right;\n",
       "    }\n",
       "</style>\n",
       "<table border=\"1\" class=\"dataframe\">\n",
       "  <thead>\n",
       "    <tr style=\"text-align: right;\">\n",
       "      <th></th>\n",
       "      <th>Open</th>\n",
       "      <th>High</th>\n",
       "      <th>Low</th>\n",
       "      <th>Close</th>\n",
       "      <th>Adj Close</th>\n",
       "      <th>Volume</th>\n",
       "    </tr>\n",
       "  </thead>\n",
       "  <tbody>\n",
       "    <tr>\n",
       "      <th>count</th>\n",
       "      <td>3932.000000</td>\n",
       "      <td>3932.000000</td>\n",
       "      <td>3932.000000</td>\n",
       "      <td>3932.000000</td>\n",
       "      <td>3932.000000</td>\n",
       "      <td>3932.000000</td>\n",
       "    </tr>\n",
       "    <tr>\n",
       "      <th>mean</th>\n",
       "      <td>0.310970</td>\n",
       "      <td>0.312771</td>\n",
       "      <td>0.309643</td>\n",
       "      <td>0.311237</td>\n",
       "      <td>0.311237</td>\n",
       "      <td>0.079956</td>\n",
       "    </tr>\n",
       "    <tr>\n",
       "      <th>std</th>\n",
       "      <td>0.241600</td>\n",
       "      <td>0.243253</td>\n",
       "      <td>0.240284</td>\n",
       "      <td>0.242168</td>\n",
       "      <td>0.242168</td>\n",
       "      <td>0.097509</td>\n",
       "    </tr>\n",
       "    <tr>\n",
       "      <th>min</th>\n",
       "      <td>0.000000</td>\n",
       "      <td>0.000000</td>\n",
       "      <td>0.000000</td>\n",
       "      <td>0.000000</td>\n",
       "      <td>0.000000</td>\n",
       "      <td>0.000000</td>\n",
       "    </tr>\n",
       "    <tr>\n",
       "      <th>25%</th>\n",
       "      <td>0.128640</td>\n",
       "      <td>0.128892</td>\n",
       "      <td>0.128100</td>\n",
       "      <td>0.127909</td>\n",
       "      <td>0.127909</td>\n",
       "      <td>0.016929</td>\n",
       "    </tr>\n",
       "    <tr>\n",
       "      <th>50%</th>\n",
       "      <td>0.188139</td>\n",
       "      <td>0.189870</td>\n",
       "      <td>0.187660</td>\n",
       "      <td>0.188273</td>\n",
       "      <td>0.188273</td>\n",
       "      <td>0.046753</td>\n",
       "    </tr>\n",
       "    <tr>\n",
       "      <th>75%</th>\n",
       "      <td>0.479221</td>\n",
       "      <td>0.481560</td>\n",
       "      <td>0.477945</td>\n",
       "      <td>0.480364</td>\n",
       "      <td>0.480364</td>\n",
       "      <td>0.102824</td>\n",
       "    </tr>\n",
       "    <tr>\n",
       "      <th>max</th>\n",
       "      <td>1.000000</td>\n",
       "      <td>1.000000</td>\n",
       "      <td>1.000000</td>\n",
       "      <td>1.000000</td>\n",
       "      <td>1.000000</td>\n",
       "      <td>1.000000</td>\n",
       "    </tr>\n",
       "  </tbody>\n",
       "</table>\n",
       "</div>"
      ],
      "text/plain": [
       "              Open         High          Low        Close    Adj Close  \\\n",
       "count  3932.000000  3932.000000  3932.000000  3932.000000  3932.000000   \n",
       "mean      0.310970     0.312771     0.309643     0.311237     0.311237   \n",
       "std       0.241600     0.243253     0.240284     0.242168     0.242168   \n",
       "min       0.000000     0.000000     0.000000     0.000000     0.000000   \n",
       "25%       0.128640     0.128892     0.128100     0.127909     0.127909   \n",
       "50%       0.188139     0.189870     0.187660     0.188273     0.188273   \n",
       "75%       0.479221     0.481560     0.477945     0.480364     0.480364   \n",
       "max       1.000000     1.000000     1.000000     1.000000     1.000000   \n",
       "\n",
       "            Volume  \n",
       "count  3932.000000  \n",
       "mean      0.079956  \n",
       "std       0.097509  \n",
       "min       0.000000  \n",
       "25%       0.016929  \n",
       "50%       0.046753  \n",
       "75%       0.102824  \n",
       "max       1.000000  "
      ]
     },
     "execution_count": 238,
     "metadata": {},
     "output_type": "execute_result"
    }
   ],
   "source": [
    "ticker_data.describe()"
   ]
  },
  {
   "cell_type": "code",
   "execution_count": 239,
   "metadata": {},
   "outputs": [],
   "source": [
    "# Convert DataFrame to NumPy array\n",
    "ticker_data = ticker_data.values"
   ]
  },
  {
   "cell_type": "code",
   "execution_count": null,
   "metadata": {},
   "outputs": [],
   "source": []
  },
  {
   "cell_type": "code",
   "execution_count": 240,
   "metadata": {},
   "outputs": [
    {
     "name": "stdout",
     "output_type": "stream",
     "text": [
      "(3902, 30, 6) (3902,)\n"
     ]
    }
   ],
   "source": [
    "sequence_length=30\n",
    "X, y = create_sequences(ticker_data,30)\n",
    "print(X.shape,y.shape)"
   ]
  },
  {
   "cell_type": "code",
   "execution_count": 241,
   "metadata": {},
   "outputs": [],
   "source": [
    "import tensorflow as tf"
   ]
  },
  {
   "cell_type": "code",
   "execution_count": null,
   "metadata": {},
   "outputs": [],
   "source": []
  },
  {
   "cell_type": "code",
   "execution_count": 242,
   "metadata": {},
   "outputs": [],
   "source": [
    "from sklearn.model_selection import train_test_split\n",
    "X_train , X_test , y_train , y_test = train_test_split(X,y,test_size=0.3,random_state=89)"
   ]
  },
  {
   "cell_type": "code",
   "execution_count": 243,
   "metadata": {},
   "outputs": [
    {
     "name": "stdout",
     "output_type": "stream",
     "text": [
      "(2731, 30, 6) (2731,)\n"
     ]
    }
   ],
   "source": [
    "print (X_train.shape, y_train.shape)"
   ]
  },
  {
   "cell_type": "code",
   "execution_count": 244,
   "metadata": {},
   "outputs": [],
   "source": [
    "## building and training GRU \n",
    "\n",
    "from keras.models import Sequential\n",
    "from keras.layers import GRU, Dense ,Dropout\n",
    "\n",
    "model=Sequential()\n",
    "model.add(GRU(units=128,activation='tanh',return_sequences=True))\n",
    "model.add(Dropout(0.3))\n",
    "model.add(GRU(64, activation='relu', return_sequences=True))\n",
    "model.add(Dropout(0.4))\n",
    "model.add(GRU(units=16))\n",
    "model.add(Dense(32))\n",
    "model.add(Dense(1))\n"
   ]
  },
  {
   "cell_type": "code",
   "execution_count": 245,
   "metadata": {},
   "outputs": [],
   "source": [
    "model.compile(loss='mean_squared_error', optimizer='adam')"
   ]
  },
  {
   "cell_type": "code",
   "execution_count": 246,
   "metadata": {},
   "outputs": [
    {
     "name": "stdout",
     "output_type": "stream",
     "text": [
      "Epoch 1/10\n",
      "\u001b[1m86/86\u001b[0m \u001b[32m━━━━━━━━━━━━━━━━━━━━\u001b[0m\u001b[37m\u001b[0m \u001b[1m6s\u001b[0m 32ms/step - loss: 0.0233 - val_loss: 8.1595e-04\n",
      "Epoch 2/10\n",
      "\u001b[1m86/86\u001b[0m \u001b[32m━━━━━━━━━━━━━━━━━━━━\u001b[0m\u001b[37m\u001b[0m \u001b[1m2s\u001b[0m 27ms/step - loss: 0.0016 - val_loss: 1.9533e-04\n",
      "Epoch 3/10\n",
      "\u001b[1m86/86\u001b[0m \u001b[32m━━━━━━━━━━━━━━━━━━━━\u001b[0m\u001b[37m\u001b[0m \u001b[1m2s\u001b[0m 26ms/step - loss: 0.0010 - val_loss: 7.9049e-04\n",
      "Epoch 4/10\n",
      "\u001b[1m86/86\u001b[0m \u001b[32m━━━━━━━━━━━━━━━━━━━━\u001b[0m\u001b[37m\u001b[0m \u001b[1m2s\u001b[0m 26ms/step - loss: 8.0615e-04 - val_loss: 2.3392e-04\n",
      "Epoch 5/10\n",
      "\u001b[1m86/86\u001b[0m \u001b[32m━━━━━━━━━━━━━━━━━━━━\u001b[0m\u001b[37m\u001b[0m \u001b[1m2s\u001b[0m 27ms/step - loss: 6.6828e-04 - val_loss: 2.5076e-04\n",
      "Epoch 6/10\n",
      "\u001b[1m86/86\u001b[0m \u001b[32m━━━━━━━━━━━━━━━━━━━━\u001b[0m\u001b[37m\u001b[0m \u001b[1m2s\u001b[0m 27ms/step - loss: 5.6949e-04 - val_loss: 3.5234e-04\n",
      "Epoch 7/10\n",
      "\u001b[1m86/86\u001b[0m \u001b[32m━━━━━━━━━━━━━━━━━━━━\u001b[0m\u001b[37m\u001b[0m \u001b[1m2s\u001b[0m 27ms/step - loss: 5.7115e-04 - val_loss: 3.3573e-04\n",
      "Epoch 8/10\n",
      "\u001b[1m86/86\u001b[0m \u001b[32m━━━━━━━━━━━━━━━━━━━━\u001b[0m\u001b[37m\u001b[0m \u001b[1m2s\u001b[0m 27ms/step - loss: 5.7453e-04 - val_loss: 4.3368e-04\n",
      "Epoch 9/10\n",
      "\u001b[1m86/86\u001b[0m \u001b[32m━━━━━━━━━━━━━━━━━━━━\u001b[0m\u001b[37m\u001b[0m \u001b[1m2s\u001b[0m 27ms/step - loss: 4.8306e-04 - val_loss: 2.2011e-04\n",
      "Epoch 10/10\n",
      "\u001b[1m86/86\u001b[0m \u001b[32m━━━━━━━━━━━━━━━━━━━━\u001b[0m\u001b[37m\u001b[0m \u001b[1m2s\u001b[0m 27ms/step - loss: 4.4688e-04 - val_loss: 5.2029e-04\n"
     ]
    },
    {
     "data": {
      "text/plain": [
       "<keras.src.callbacks.history.History at 0x229fa6b9c10>"
      ]
     },
     "execution_count": 246,
     "metadata": {},
     "output_type": "execute_result"
    }
   ],
   "source": [
    "model.fit(X_train,y_train,epochs=10, batch_size=32,validation_data=(X_test,y_test))"
   ]
  },
  {
   "cell_type": "code",
   "execution_count": 247,
   "metadata": {},
   "outputs": [
    {
     "name": "stdout",
     "output_type": "stream",
     "text": [
      "\u001b[1m37/37\u001b[0m \u001b[32m━━━━━━━━━━━━━━━━━━━━\u001b[0m\u001b[37m\u001b[0m \u001b[1m0s\u001b[0m 7ms/step - loss: 4.6447e-04\n"
     ]
    }
   ],
   "source": [
    "loss = model.evaluate(X_test, y_test)"
   ]
  },
  {
   "cell_type": "code",
   "execution_count": 248,
   "metadata": {},
   "outputs": [
    {
     "name": "stdout",
     "output_type": "stream",
     "text": [
      "\u001b[1m37/37\u001b[0m \u001b[32m━━━━━━━━━━━━━━━━━━━━\u001b[0m\u001b[37m\u001b[0m \u001b[1m1s\u001b[0m 14ms/step\n",
      "Predictions: [[0.61879784]\n",
      " [0.32233393]\n",
      " [0.30880326]\n",
      " [0.10799014]\n",
      " [0.1680415 ]]\n",
      "True values: [0.6363069  0.35819745 0.30945915 0.11144406 0.17791547]\n"
     ]
    }
   ],
   "source": [
    "# Make predictions\n",
    "predictions = model.predict(X_test)\n",
    "\n",
    "# You can compare predictions to actual values like this:\n",
    "print(\"Predictions:\", predictions[:5])  # First 5 predictions\n",
    "print(\"True values:\", y_test[:5])  # First 5 true value"
   ]
  },
  {
   "cell_type": "code",
   "execution_count": 254,
   "metadata": {},
   "outputs": [],
   "source": [
    "predictions = predictions.reshape(-1,1)"
   ]
  },
  {
   "cell_type": "code",
   "execution_count": 256,
   "metadata": {},
   "outputs": [],
   "source": [
    "actual_predictions = ms.inverse_transform(np.concatenate([np.zeros((predictions.shape[0], 5)), predictions], axis=1))[:, -1]"
   ]
  },
  {
   "cell_type": "code",
   "execution_count": 258,
   "metadata": {},
   "outputs": [
    {
     "data": {
      "text/plain": [
       "(1171,)"
      ]
     },
     "execution_count": 258,
     "metadata": {},
     "output_type": "execute_result"
    }
   ],
   "source": [
    "actual_predictions.shape"
   ]
  },
  {
   "cell_type": "code",
   "execution_count": 264,
   "metadata": {},
   "outputs": [
    {
     "data": {
      "image/png": "[encoded data removed]",
      "text/plain": [
       "<Figure size 1600x600 with 1 Axes>"
      ]
     },
     "metadata": {},
     "output_type": "display_data"
    }
   ],
   "source": [
    "import matplotlib.pyplot as plt\n",
    "y_pred = predictions[:50].flatten()\n",
    "y_true = y_test[:50].flatten()\n",
    "\n",
    "# Plotting\n",
    "plt.figure(figsize=(16, 6))  # Adjust the size as needed\n",
    "plt.plot(y_true, label='True Values', color='blue', alpha=0.7)\n",
    "plt.plot(y_pred, label='Predicted Values', color='red', alpha=0.7)\n",
    "\n",
    "plt.title('Stock Price Predictions vs True Values')\n",
    "plt.xlabel('Days')\n",
    "plt.ylabel('Price')\n",
    "plt.legend(loc='best')\n",
    "\n",
    "plt.show()"
   ]
  },
  {
   "cell_type": "code",
   "execution_count": null,
   "metadata": {},
   "outputs": [],
   "source": []
  }
 ],
 "metadata": {
  "kernelspec": {
   "display_name": "Python 3",
   "language": "python",
   "name": "python3"
  },
  "language_info": {
   "codemirror_mode": {
    "name": "ipython",
    "version": 3
   },
   "file_extension": ".py",
   "mimetype": "text/x-python",
   "name": "python",
   "nbconvert_exporter": "python",
   "pygments_lexer": "ipython3",
   "version": "3.11.0"
  }
 },
 "nbformat": 4,
 "nbformat_minor": 2
}
